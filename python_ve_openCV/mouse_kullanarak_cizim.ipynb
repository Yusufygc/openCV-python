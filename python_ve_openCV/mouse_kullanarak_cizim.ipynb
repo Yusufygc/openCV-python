{
 "cells": [
  {
   "cell_type": "code",
   "execution_count": 2,
   "metadata": {},
   "outputs": [],
   "source": [
    "import numpy as np  \n",
    "import cv2\n",
    "\n",
    "# mouse callback function\n",
    "def draw_circle(event,x,y,flags,param): # flags: mouse sol mu sag mi tiklandi, param: mouse tiklandiginda gelen parametre\n",
    "    if event == cv2.EVENT_LBUTTONDOWN:\n",
    "        cv2.circle(img,(x,y),50,(255,0,0),-1) \n",
    "\n",
    "    elif event == cv2.EVENT_RBUTTONDOWN:\n",
    "        cv2.circle(img,(x,y),50,(0,255,0),-1)\n",
    "\n",
    "cv2.namedWindow('image') # pencere olustur\n",
    "\n",
    "cv2.setMouseCallback('image',draw_circle) # mouse ile cizim yapmak icin callback fonksiyonu tanimla\n",
    "\n",
    "# Create a black image, a window and bind the function to window\n",
    "img = np.zeros((512,512,3), np.uint8)\n",
    "\n",
    "while(1):\n",
    "    cv2.imshow('image',img)\n",
    "\n",
    "    if cv2.waitKey(20) & 0xFF == 27:\n",
    "        break\n",
    "\n",
    "cv2.destroyAllWindows()"
   ]
  }
 ],
 "metadata": {
  "kernelspec": {
   "display_name": "Python 3",
   "language": "python",
   "name": "python3"
  },
  "language_info": {
   "codemirror_mode": {
    "name": "ipython",
    "version": 3
   },
   "file_extension": ".py",
   "mimetype": "text/x-python",
   "name": "python",
   "nbconvert_exporter": "python",
   "pygments_lexer": "ipython3",
   "version": "3.9.12"
  },
  "orig_nbformat": 4,
  "vscode": {
   "interpreter": {
    "hash": "36cd2f18c3a539707d4265e48a28f3aaedccb42093f4c5fea7e2e14000bdbfbb"
   }
  }
 },
 "nbformat": 4,
 "nbformat_minor": 2
}
