{
 "cells": [
  {
   "cell_type": "code",
   "execution_count": 4,
   "metadata": {},
   "outputs": [],
   "source": [
    "import cv2\n",
    "\n",
    "def draw_circle(event,x,y,flags,param):\n",
    "    global center,clicked\n",
    "\n",
    "    # tıklama başladığında\n",
    "    if event == cv2.EVENT_LBUTTONDOWN:\n",
    "            center = (x,y) # koordinatları al\n",
    "            clicked = False # tıklama kontrolü yap\n",
    "    \n",
    "    # tıklama bırakıldığında\n",
    "    if event == cv2.EVENT_LBUTTONUP:\n",
    "            clicked = True\n",
    "\n",
    "# global değişkenler\n",
    "center = (0,0)\n",
    "clicked = False\n",
    "\n",
    "# webcam\n",
    "cap = cv2.VideoCapture(0)\n",
    "\n",
    "# pencere\n",
    "cv2.namedWindow(winname='deneme')\n",
    "\n",
    "# fare tıklama kontrolü\n",
    "cv2.setMouseCallback('deneme',draw_circle)\n",
    "\n",
    "while True:\n",
    "    ret, frame = cap.read()\n",
    "    frame = cv2.flip(frame, 1) # yatay çevirme\n",
    "\n",
    "    # şekilleri çizdirme\n",
    "    if clicked == True: # sol üst köşe tıklanırsa\n",
    "        cv2.circle(frame, center=center, radius=25, color=(0,0,255), thickness=2) \n",
    "\n",
    "    cv2.imshow('deneme', frame)\n",
    "\n",
    "    if cv2.waitKey(1) & 0xFF == ord('q'):\n",
    "        break\n",
    "\n",
    "# ekeranı temizleme\n",
    "cap.release()\n",
    "cv2.destroyAllWindows()"
   ]
  }
 ],
 "metadata": {
  "kernelspec": {
   "display_name": "Python 3",
   "language": "python",
   "name": "python3"
  },
  "language_info": {
   "codemirror_mode": {
    "name": "ipython",
    "version": 3
   },
   "file_extension": ".py",
   "mimetype": "text/x-python",
   "name": "python",
   "nbconvert_exporter": "python",
   "pygments_lexer": "ipython3",
   "version": "3.9.12"
  },
  "orig_nbformat": 4,
  "vscode": {
   "interpreter": {
    "hash": "36cd2f18c3a539707d4265e48a28f3aaedccb42093f4c5fea7e2e14000bdbfbb"
   }
  }
 },
 "nbformat": 4,
 "nbformat_minor": 2
}
