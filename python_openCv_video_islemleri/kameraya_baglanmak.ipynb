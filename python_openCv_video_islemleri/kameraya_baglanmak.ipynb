{
 "cells": [
  {
   "cell_type": "code",
   "execution_count": 2,
   "metadata": {},
   "outputs": [],
   "source": [
    "import cv2\n",
    "\n",
    "cap = cv2.VideoCapture(0) # 0. bilgisayarın kendi kamerası, 1. harici kamera\n",
    "\n",
    "widht = int(cap.get(cv2.CAP_PROP_FRAME_WIDTH)) # kameranın genişliği\n",
    "height = int(cap.get(cv2.CAP_PROP_FRAME_HEIGHT)) # kameranın yüksekliği\n",
    "\n",
    "while True:\n",
    "    ret, frame = cap.read() # ret: kamera açıldı mı? frame: kameradan gelen görüntü\n",
    "    frame = cv2.flip(frame, 1) # görüntüyü yatay olarak çevirir\n",
    "    cv2.imshow('Kamera', frame)\n",
    "    if cv2.waitKey(1) & 0xFF == ord('q'): \n",
    "        break\n",
    "\n",
    "cap.release() # kamerayı kapatır \n",
    "cv2.destroyAllWindows() # tüm pencereleri kapatır"
   ]
  }
 ],
 "metadata": {
  "kernelspec": {
   "display_name": "Python 3",
   "language": "python",
   "name": "python3"
  },
  "language_info": {
   "codemirror_mode": {
    "name": "ipython",
    "version": 3
   },
   "file_extension": ".py",
   "mimetype": "text/x-python",
   "name": "python",
   "nbconvert_exporter": "python",
   "pygments_lexer": "ipython3",
   "version": "3.9.12"
  },
  "orig_nbformat": 4,
  "vscode": {
   "interpreter": {
    "hash": "36cd2f18c3a539707d4265e48a28f3aaedccb42093f4c5fea7e2e14000bdbfbb"
   }
  }
 },
 "nbformat": 4,
 "nbformat_minor": 2
}
