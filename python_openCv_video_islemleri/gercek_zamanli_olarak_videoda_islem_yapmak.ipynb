{
 "cells": [
  {
   "cell_type": "code",
   "execution_count": 3,
   "metadata": {},
   "outputs": [],
   "source": [
    "import cv2\n",
    "\n",
    "# dikdörtgen çizdirme fonksiyonu\n",
    "def draw_rectangle(event,x,y,flag,param):\n",
    "    global pt1, pt2, topLeft_clicked, botRight_clicked\n",
    "\n",
    "    if event == cv2.EVENT_LBUTTONDOWN: # sol tıklandığında\n",
    "        if topLeft_clicked == True and botRight_clicked == True: # sol üst ve sağ alt köşe tıklanırsa\n",
    "            pt1 = (0,0) # koordinatları sıfırla\n",
    "            pt2 = (0,0) \n",
    "            topLeft_clicked = False # tıklama kontrolünü sıfırla\n",
    "            botRight_clicked = False\n",
    "\n",
    "        if topLeft_clicked == False: # sol üst köşe tıklanırsa\n",
    "            pt1 = (x,y) # koordinatları al\n",
    "            topLeft_clicked = True # tıklama kontrolü yap\n",
    "\n",
    "        elif botRight_clicked == False: # sağ alt köşe tıklanırsa\n",
    "            pt2 = (x,y)\n",
    "            botRight_clicked = True\n",
    "\n",
    "#global değişkenler\n",
    "pt1 = (0,0)\n",
    "pt2 = (0,0)\n",
    "topLeft_clicked = False # sol üst köşe için tıklama kontrolü \n",
    "botRight_clicked = False\n",
    "\n",
    "# çizdirme fonksiyonu\n",
    "cap = cv2.VideoCapture(0)\n",
    "\n",
    "cv2.namedWindow('Test')\n",
    "cv2.setMouseCallback('Test', draw_rectangle)\n",
    "\n",
    "while True:\n",
    "    ret, frame = cap.read()\n",
    "    frame = cv2.flip(frame, 1) # yatay çevirme\n",
    "\n",
    "    # şekilleri çizdirme\n",
    "    if topLeft_clicked == True: # sol üst köşe tıklanırsa\n",
    "        cv2.circle(frame, center=pt1, radius=5, color=(0,0,255), thickness=-1) \n",
    "\n",
    "    if topLeft_clicked and botRight_clicked: # sol üst ve sağ alt köşe tıklanırsa\n",
    "        cv2.rectangle(frame, pt1, pt2, (0,0,255), 3)\n",
    "\n",
    "    cv2.imshow('Test', frame)\n",
    "\n",
    "    if cv2.waitKey(1) & 0xFF == ord('q'):\n",
    "        break\n",
    "\n",
    "cap.release()\n",
    "cv2.destroyAllWindows()"
   ]
  }
 ],
 "metadata": {
  "kernelspec": {
   "display_name": "Python 3",
   "language": "python",
   "name": "python3"
  },
  "language_info": {
   "codemirror_mode": {
    "name": "ipython",
    "version": 3
   },
   "file_extension": ".py",
   "mimetype": "text/x-python",
   "name": "python",
   "nbconvert_exporter": "python",
   "pygments_lexer": "ipython3",
   "version": "3.9.12"
  },
  "orig_nbformat": 4,
  "vscode": {
   "interpreter": {
    "hash": "36cd2f18c3a539707d4265e48a28f3aaedccb42093f4c5fea7e2e14000bdbfbb"
   }
  }
 },
 "nbformat": 4,
 "nbformat_minor": 2
}
