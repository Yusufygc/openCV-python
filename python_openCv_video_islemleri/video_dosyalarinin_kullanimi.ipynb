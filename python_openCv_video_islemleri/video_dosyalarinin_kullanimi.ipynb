{
 "cells": [
  {
   "cell_type": "code",
   "execution_count": 3,
   "metadata": {},
   "outputs": [],
   "source": [
    "import cv2\n",
    "import time\n",
    "\n",
    "cap = cv2.VideoCapture('C:\\\\Users\\\\TUF Dash F15\\\\Desktop\\\\cvCourse\\\\images\\\\computer_vision.mp4')\n",
    "\n",
    "if cap.isOpened() == False: # Video dosyası açılamazsa\n",
    "    print('Hata')\n",
    "\n",
    "while cap.isOpened(): # Video dosyası açıldıysa\n",
    "    ret, frame = cap.read()\n",
    "    \n",
    "    if ret == True: # Video dosyasından frame okunabiliyorsa\n",
    "        cv2.imshow('frame', frame)\n",
    "        time.sleep(1/25) # 20 FPS videonun kendi hızında oynatmak için kullandık\n",
    "        if cv2.waitKey(1) & 0xFF == ord('q'): \n",
    "            break\n",
    "    else:\n",
    "        break\n",
    "\n",
    "cap.release() # Video dosyasını serbest bırak (kapat)\n",
    "cv2.destroyAllWindows()"
   ]
  }
 ],
 "metadata": {
  "kernelspec": {
   "display_name": "Python 3",
   "language": "python",
   "name": "python3"
  },
  "language_info": {
   "codemirror_mode": {
    "name": "ipython",
    "version": 3
   },
   "file_extension": ".py",
   "mimetype": "text/x-python",
   "name": "python",
   "nbconvert_exporter": "python",
   "pygments_lexer": "ipython3",
   "version": "3.9.12"
  },
  "orig_nbformat": 4,
  "vscode": {
   "interpreter": {
    "hash": "36cd2f18c3a539707d4265e48a28f3aaedccb42093f4c5fea7e2e14000bdbfbb"
   }
  }
 },
 "nbformat": 4,
 "nbformat_minor": 2
}
