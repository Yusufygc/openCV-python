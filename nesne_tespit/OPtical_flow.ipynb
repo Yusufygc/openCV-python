{
 "cells": [
  {
   "cell_type": "code",
   "execution_count": 2,
   "metadata": {},
   "outputs": [],
   "source": [
    "import cv2\n",
    "import numpy as np"
   ]
  },
  {
   "cell_type": "code",
   "execution_count": 3,
   "metadata": {},
   "outputs": [],
   "source": [
    "corner_track_params = dict(maxCorners = 10, qualityLevel = 0.3, minDistance = 7, blockSize = 7) # corner_track_params ile köşeleri belirliyoruz"
   ]
  },
  {
   "cell_type": "code",
   "execution_count": 4,
   "metadata": {},
   "outputs": [],
   "source": [
    "lk_params = dict(winSize = (200,200), maxLevel = 2, criteria = (cv2.TERM_CRITERIA_EPS | cv2.TERM_CRITERIA_COUNT, 10, 0.03)) # winSize ile hareket eden nesnenin boyutunu /hassasiyetini belirliyoruz maxLevel ile de hareket eden nesnenin çözünürlüğü belirliyoruz criteria ile de hareket eden nesnenin hassasiyetini belirliyoruz , 10 ile 0.03 değerleri arasında bir hassasiyet belirliyoruz "
   ]
  },
  {
   "cell_type": "code",
   "execution_count": 5,
   "metadata": {},
   "outputs": [
    {
     "ename": "error",
     "evalue": "OpenCV(4.8.0) :-1: error: (-5:Bad argument) in function 'line'\n> Overload resolution failed:\n>  - Can't parse 'pt1'. Sequence item with index 0 has a wrong type\n>  - Can't parse 'pt1'. Sequence item with index 0 has a wrong type\n",
     "output_type": "error",
     "traceback": [
      "\u001b[1;31m---------------------------------------------------------------------------\u001b[0m",
      "\u001b[1;31merror\u001b[0m                                     Traceback (most recent call last)",
      "Cell \u001b[1;32mIn[5], line 26\u001b[0m\n\u001b[0;32m     23\u001b[0m     x_new, y_new \u001b[39m=\u001b[39m new\u001b[39m.\u001b[39mravel() \u001b[39m# new içindeki değerleri ravel ile düzleştiriyoruz\u001b[39;00m\n\u001b[0;32m     24\u001b[0m     x_prev, y_prev \u001b[39m=\u001b[39m prev\u001b[39m.\u001b[39mravel() \u001b[39m# prev içindeki değerleri ravel ile düzleştiriyoruz\u001b[39;00m\n\u001b[1;32m---> 26\u001b[0m     mask \u001b[39m=\u001b[39m cv2\u001b[39m.\u001b[39;49mline(mask, (x_new, y_new), (x_prev, y_prev), (\u001b[39m0\u001b[39;49m, \u001b[39m255\u001b[39;49m, \u001b[39m0\u001b[39;49m), \u001b[39m3\u001b[39;49m) \u001b[39m# mask içindeki değerleri çiziyoruz\u001b[39;00m\n\u001b[0;32m     28\u001b[0m     frame \u001b[39m=\u001b[39m cv2\u001b[39m.\u001b[39mcircle(frame, (x_new, y_new), \u001b[39m8\u001b[39m, (\u001b[39m0\u001b[39m, \u001b[39m0\u001b[39m, \u001b[39m255\u001b[39m), \u001b[39m-\u001b[39m\u001b[39m1\u001b[39m) \u001b[39m# frame içindeki değerleri çiziyoruz\u001b[39;00m\n\u001b[0;32m     30\u001b[0m img \u001b[39m=\u001b[39m cv2\u001b[39m.\u001b[39madd(frame, mask) \u001b[39m# frame ve mask içindeki değerleri topluyoruz birleştiririyoruz\u001b[39;00m\n",
      "\u001b[1;31merror\u001b[0m: OpenCV(4.8.0) :-1: error: (-5:Bad argument) in function 'line'\n> Overload resolution failed:\n>  - Can't parse 'pt1'. Sequence item with index 0 has a wrong type\n>  - Can't parse 'pt1'. Sequence item with index 0 has a wrong type\n"
     ]
    }
   ],
   "source": [
    "cap= cv2.VideoCapture(0)\n",
    "\n",
    "ret, prev_frame = cap.read()\n",
    "\n",
    "prev_gray = cv2.cvtColor(prev_frame, cv2.COLOR_BGR2GRAY)\n",
    "\n",
    "prevPts = cv2.goodFeaturesToTrack(prev_gray, mask = None, **corner_track_params) # prevPts ile de prev_gray içindeki köşeleri belirliyoruz\n",
    "# **corner_track_params ile de corner_track_params içindeki değerleri prevPts içine atıyoruz dictionary yapısını kullandığımız içi ** kullandık\n",
    "\n",
    "mask = np.zeros_like(prev_frame) # mask ile de prev_frame içindeki değerleri 0 yapıyoruz. çünkü prev_frame içindeki değerleri 0 yapmazsak hareket eden nesnenin etrafına bir kare çiziyor . bu kareyi çizmemek için prev_frame içindeki değerleri 0 yapıyoruz . önceki karenin eşleştiği kareyi buluyoruz\n",
    "\n",
    "while True:\n",
    "    ret, frame = cap.read()\n",
    "    frame_gray = cv2.cvtColor(frame, cv2.COLOR_BGR2GRAY)\n",
    "\n",
    "    nextPts, status, err = cv2.calcOpticalFlowPyrLK(prev_gray, frame_gray, prevPts, None, **lk_params) # nextPts ile de prev_gray ile frame_gray arasındaki farkı buluyoruz. status ile de nextPts içindeki değerleri buluyoruz. err ile de nextPts içindeki değerleri buluyoruz\n",
    "\n",
    "    good_new = nextPts[status == 1] # status içindeki değerleri 1 olanları good_new içine atıyoruz\n",
    "\n",
    "    good_prev = prevPts[status == 1] # status içindeki değerleri 1 olanları good_prev içine atıyoruz\n",
    "\n",
    "    for i, (new, prev) in enumerate(zip(good_new, good_prev)): # good_new ve good_prev içindeki değerleri zip ile birleştiriyoruz\n",
    "        x_new, y_new = new.ravel() # new içindeki değerleri ravel ile düzleştiriyoruz\n",
    "        x_prev, y_prev = prev.ravel() # prev içindeki değerleri ravel ile düzleştiriyoruz\n",
    "\n",
    "        mask = cv2.line(mask, (x_new, y_new), (x_prev, y_prev), (0, 255, 0), 3) # mask içindeki değerleri çiziyoruz\n",
    "\n",
    "        frame = cv2.circle(frame, (x_new, y_new), 8, (0, 0, 255), -1) # frame içindeki değerleri çiziyoruz\n",
    "\n",
    "    img = cv2.add(frame, mask) # frame ve mask içindeki değerleri topluyoruz birleştiririyoruz\n",
    "\n",
    "    cv2.imshow(\"tracking\", img)\n",
    "\n",
    "    k = cv2.waitKey(30) & 0xFF\n",
    "    if k == 27:\n",
    "        break\n",
    "\n",
    "    prev_gray = frame_gray.copy()\n",
    "    prevPts = good_new.reshape(-1, 1, 2) # good_new içindeki değerleri reshape ile düzleştiriyoruz ve prevPts içine atıyoruz \n",
    "\n",
    "cv2.destroyAllWindows()\n",
    "cap.release()\n"
   ]
  }
 ],
 "metadata": {
  "kernelspec": {
   "display_name": "Python 3",
   "language": "python",
   "name": "python3"
  },
  "language_info": {
   "codemirror_mode": {
    "name": "ipython",
    "version": 3
   },
   "file_extension": ".py",
   "mimetype": "text/x-python",
   "name": "python",
   "nbconvert_exporter": "python",
   "pygments_lexer": "ipython3",
   "version": "3.9.12"
  },
  "orig_nbformat": 4,
  "vscode": {
   "interpreter": {
    "hash": "36cd2f18c3a539707d4265e48a28f3aaedccb42093f4c5fea7e2e14000bdbfbb"
   }
  }
 },
 "nbformat": 4,
 "nbformat_minor": 2
}
