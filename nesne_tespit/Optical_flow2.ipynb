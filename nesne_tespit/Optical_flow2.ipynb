{
 "cells": [
  {
   "cell_type": "code",
   "execution_count": 1,
   "metadata": {},
   "outputs": [],
   "source": [
    "import cv2\n",
    "import numpy as np\n",
    "\n",
    "cap = cv2.VideoCapture(0)\n",
    "\n",
    "ret , frame1 = cap.read()\n",
    "\n",
    "prvsImg = cv2.cvtColor(frame1,cv2.COLOR_BGR2GRAY)\n",
    "\n",
    "hsv_mask = np.zeros_like(frame1) # aynı şekil ve türdeki bir dizi ile aynı şekil ve türden sıfırlar dizisi döndürür\n",
    "\n",
    "hsv_mask[:,:,1] = 255 # 1. kanalı 255 yapar\n",
    "\n",
    "while True:\n",
    "    ret , frame2 = cap.read()\n",
    "    nextImg = cv2.cvtColor(frame2,cv2.COLOR_BGR2GRAY)\n",
    "    \n",
    "    flow = cv2.calcOpticalFlowFarneback(prvsImg,nextImg,None,0.5,3,15,3,5,1.2,0) #  Farneback optik akış algoritması kullanılarak optik akış vektörleri hesaplar \n",
    "    \n",
    "    mag,ang = cv2.cartToPolar(flow[:,:,0],flow[:,:,1],angleInDegrees=True) # cartToPolar: x ve y koordinatlarından açı ve uzunluk bilgisi döndürür angleInDegrees: açıların derece cinsinden olup olmadığını belirtir\n",
    "    \n",
    "    hsv_mask[:,:,0] = ang/2 # 0. kanalı açıya bölerek renk tonunu belirler \n",
    "    \n",
    "    hsv_mask[:,:,2] = cv2.normalize(mag,None,0,255,cv2.NORM_MINMAX) # 2. kanalı normalize ederek renk doygunluğunu belirler\n",
    "    \n",
    "    bgr = cv2.cvtColor(hsv_mask,cv2.COLOR_HSV2BGR) # HSV renk uzayından BGR renk uzayına dönüştürür çünkü imshow() fonksiyonu BGR renk uzayını kullanır\n",
    "    \n",
    "    cv2.imshow(\"frame\",bgr)\n",
    "\n",
    "    k= cv2.waitKey(30) & 0xff\n",
    "    \n",
    "    if k ==27:\n",
    "        break\n",
    "        \n",
    "    prvsImg = nextImg # bir sonraki döngüdeki prvsImg değişkeni için nextImg değişkenini atar bir önceki frame ibir sonraki frame eşitler ve loop oluştururuz\n",
    "\n",
    "cap.release()\n",
    "cv2.destroyAllWindows() "
   ]
  },
  {
   "cell_type": "code",
   "execution_count": null,
   "metadata": {},
   "outputs": [],
   "source": []
  }
 ],
 "metadata": {
  "kernelspec": {
   "display_name": "Python 3",
   "language": "python",
   "name": "python3"
  },
  "language_info": {
   "codemirror_mode": {
    "name": "ipython",
    "version": 3
   },
   "file_extension": ".py",
   "mimetype": "text/x-python",
   "name": "python",
   "nbconvert_exporter": "python",
   "pygments_lexer": "ipython3",
   "version": "3.9.12"
  },
  "orig_nbformat": 4,
  "vscode": {
   "interpreter": {
    "hash": "36cd2f18c3a539707d4265e48a28f3aaedccb42093f4c5fea7e2e14000bdbfbb"
   }
  }
 },
 "nbformat": 4,
 "nbformat_minor": 2
}
